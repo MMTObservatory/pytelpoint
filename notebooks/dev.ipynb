{
 "cells": [
  {
   "cell_type": "code",
   "execution_count": null,
   "metadata": {},
   "outputs": [],
   "source": [
    "import importlib\n",
    "\n",
    "import matplotlib\n",
    "import matplotlib.pyplot as plt\n",
    "\n",
    "import pandas as pd\n",
    "\n",
    "from pytelpoint.fitting import azel_fit, best_fit_pars\n",
    "from pytelpoint.visualization import plot_corner, pointing_azel_resid, pointing_histogram, pointing_residuals, pointing_sky\n",
    "from pytelpoint.io import read_azel_datfile, read_raw_datfile\n",
    "from pytelpoint.transform import azel_model\n",
    "\n",
    "%load_ext autoreload\n",
    "%autoreload 2"
   ]
  },
  {
   "cell_type": "code",
   "execution_count": null,
   "metadata": {},
   "outputs": [],
   "source": [
    "# this is the K&E pointing run data from august 2021\n",
    "TEST_DATA = importlib.resources.files(\"pytelpoint\") / \"test_data\"\n",
    "datafile = TEST_DATA / \"k_and_e.dat\"\n",
    "coo_ref, coo_meas = read_azel_datfile(datafile)\n",
    "idata = azel_fit(coo_ref, coo_meas, ntune=500, nsamp=1000, cores=8) # , fit_terms=['ia', 'ie'], fixed_terms={})\n",
    "#     'an': 2.47417625,\n",
    "#     'aw': -10.41301937,\n",
    "#     'ca': -6.96307427,\n",
    "#     'npae': -2.6429775,\n",
    "#     'tf': 21.43400213,\n",
    "#     'tx': -2.70606889\n",
    "#     }\n",
    "# )"
   ]
  },
  {
   "cell_type": "code",
   "execution_count": null,
   "metadata": {},
   "outputs": [],
   "source": [
    "truths = {\n",
    "    'ia': 1209.2612,\n",
    "    'ie': -2.9933,\n",
    "    'npae': -3.4724,\n",
    "    'ca': -5.9455,\n",
    "    'an': 2.4950,\n",
    "    'aw': -10.3347,\n",
    "    'tf': 21.4118,\n",
    "    'tx': -2.7165\n",
    "}\n",
    "f = plot_corner(idata, truths=truths, title_kwargs={\"fontsize\": 16})\n",
    "f.savefig(\"k_and_e_corner.pdf\")"
   ]
  },
  {
   "cell_type": "code",
   "execution_count": null,
   "metadata": {},
   "outputs": [],
   "source": [
    "pars = best_fit_pars(idata)\n",
    "pars"
   ]
  },
  {
   "cell_type": "code",
   "execution_count": null,
   "metadata": {},
   "outputs": [],
   "source": [
    "mc_coo = azel_model(coo_meas, **pars)"
   ]
  },
  {
   "cell_type": "code",
   "execution_count": null,
   "metadata": {},
   "outputs": [],
   "source": [
    "f = pointing_residuals(coo_ref, mc_coo, circle_size=1.0)\n",
    "f.savefig(\"k_and_e_resid.pdf\")"
   ]
  },
  {
   "cell_type": "code",
   "execution_count": null,
   "metadata": {},
   "outputs": [],
   "source": [
    "f = pointing_azel_resid(coo_ref, mc_coo)\n",
    "f.savefig(\"k_and_e_azel.pdf\")"
   ]
  },
  {
   "cell_type": "code",
   "execution_count": null,
   "metadata": {},
   "outputs": [],
   "source": [
    "f = pointing_histogram(coo_ref, mc_coo, bins='freedman')\n",
    "f.savefig(\"k_and_e_hist.pdf\")"
   ]
  },
  {
   "cell_type": "code",
   "execution_count": null,
   "metadata": {},
   "outputs": [],
   "source": [
    "f = pointing_sky(coo_ref, mc_coo)\n",
    "f.savefig(\"k_and_e_sky.pdf\")"
   ]
  },
  {
   "cell_type": "code",
   "execution_count": null,
   "metadata": {},
   "outputs": [],
   "source": [
    "# this is a binospec pointing from 20250326\n",
    "bino_ref, bino_meas = read_raw_datfile(TEST_DATA / \"point_20250326.dat\")"
   ]
  },
  {
   "cell_type": "code",
   "execution_count": null,
   "metadata": {},
   "outputs": [],
   "source": [
    "len(bino_meas)"
   ]
  },
  {
   "cell_type": "code",
   "execution_count": null,
   "metadata": {},
   "outputs": [],
   "source": [
    "bino_idata = azel_fit(bino_ref, bino_meas, cores=8)"
   ]
  },
  {
   "cell_type": "code",
   "execution_count": null,
   "metadata": {},
   "outputs": [],
   "source": [
    "bino_pars = best_fit_pars(bino_idata)\n",
    "bino_pars"
   ]
  },
  {
   "cell_type": "code",
   "execution_count": null,
   "metadata": {},
   "outputs": [],
   "source": [
    "bino_coo = azel_model(bino_meas, **bino_pars)"
   ]
  },
  {
   "cell_type": "code",
   "execution_count": null,
   "metadata": {},
   "outputs": [],
   "source": [
    "truths = {\n",
    "    'ia': 1204.25,\n",
    "    'ie': 1.5,\n",
    "    'npae': 2.38,\n",
    "    'ca': 0.0,\n",
    "    'an': 2.14,\n",
    "    'aw': -12.48,\n",
    "    'tf': 0.0,\n",
    "    'tx': 0.0\n",
    "}\n",
    "f = plot_corner(bino_idata, truths=truths, title_kwargs={\"fontsize\": 16})\n",
    "f.savefig(\"bino_corner_20250326.png\")\n",
    "f.savefig(\"bino_corner_20250326.pdf\")"
   ]
  },
  {
   "cell_type": "code",
   "execution_count": null,
   "metadata": {},
   "outputs": [],
   "source": [
    "f = pointing_histogram(bino_ref, bino_coo)\n",
    "f.savefig(\"bino_hist_20250326.png\")\n",
    "f.savefig(\"bino_hist_20250326.pdf\")"
   ]
  },
  {
   "cell_type": "code",
   "execution_count": null,
   "metadata": {},
   "outputs": [],
   "source": [
    "f = pointing_residuals(bino_ref, bino_coo)\n",
    "f.savefig(\"bino_resid_20250326.png\")\n",
    "f.savefig(\"bino_resid_20250326.pdf\")"
   ]
  },
  {
   "cell_type": "code",
   "execution_count": null,
   "metadata": {},
   "outputs": [],
   "source": [
    "f = pointing_azel_resid(bino_ref, bino_coo)\n",
    "f.savefig(\"bino_azel_20250326.png\")\n",
    "f.savefig(\"bino_azel_20250326.pdf\")"
   ]
  },
  {
   "cell_type": "code",
   "execution_count": null,
   "metadata": {},
   "outputs": [],
   "source": [
    "f = pointing_sky(bino_ref, bino_coo)\n",
    "f.savefig(\"bino_sky_20250326.pdf\")\n",
    "f.savefig(\"bino_sky_20250326.png\")"
   ]
  },
  {
   "cell_type": "code",
   "execution_count": null,
   "metadata": {},
   "outputs": [],
   "source": [
    "# this is the f/5 hecto pointing run done in november 2021\n",
    "# f5_ref, f5_meas = read_raw_datfile(\"/home/tim/MMT/pointing_analysis/pointing_data/20211129/point.dat\")\n",
    "f5_ref, f5_meas = read_raw_datfile(\"/home/tim/MMT/pointing_analysis/pointing_data/20211212/point_20211212.dat\")"
   ]
  },
  {
   "cell_type": "code",
   "execution_count": null,
   "metadata": {},
   "outputs": [],
   "source": [
    "f5_idata = azel_fit(f5_ref, f5_meas)"
   ]
  },
  {
   "cell_type": "code",
   "execution_count": null,
   "metadata": {},
   "outputs": [],
   "source": [
    "f5_pars = best_fit_pars(f5_idata)\n",
    "f5_pars"
   ]
  },
  {
   "cell_type": "code",
   "execution_count": null,
   "metadata": {},
   "outputs": [],
   "source": [
    "f5_coo = azel_model(f5_meas, **f5_pars)"
   ]
  },
  {
   "cell_type": "code",
   "execution_count": null,
   "metadata": {},
   "outputs": [],
   "source": [
    "f = plot_corner(f5_idata)"
   ]
  },
  {
   "cell_type": "code",
   "execution_count": null,
   "metadata": {},
   "outputs": [],
   "source": [
    "f = pointing_histogram(f5_ref, f5_coo)"
   ]
  },
  {
   "cell_type": "code",
   "execution_count": null,
   "metadata": {},
   "outputs": [],
   "source": [
    "f = pointing_residuals(f5_ref, f5_coo)"
   ]
  },
  {
   "cell_type": "code",
   "execution_count": null,
   "metadata": {},
   "outputs": [],
   "source": [
    "# this shows the need for better sampling of stars across elevation\n",
    "f = pointing_azel_resid(f5_ref, f5_coo)"
   ]
  },
  {
   "cell_type": "code",
   "execution_count": null,
   "metadata": {},
   "outputs": [],
   "source": [
    "# this is the old K&E 0th order pointing data taken back in march of 2003\n",
    "oldke_ref, oldke_meas = read_raw_datfile(\"/home/tim/MMT/pointing_analysis/pointing_data/20030320/pointing_3_20_2003\")"
   ]
  },
  {
   "cell_type": "code",
   "execution_count": null,
   "metadata": {},
   "outputs": [],
   "source": [
    "oldke_idata = azel_fit(oldke_ref, oldke_meas)\n",
    "oldke_pars = best_fit_pars(oldke_idata)"
   ]
  },
  {
   "cell_type": "code",
   "execution_count": null,
   "metadata": {},
   "outputs": [],
   "source": [
    "oldke_pars, pars"
   ]
  },
  {
   "cell_type": "code",
   "execution_count": null,
   "metadata": {},
   "outputs": [],
   "source": [
    "f = plot_corner(oldke_idata)"
   ]
  },
  {
   "cell_type": "code",
   "execution_count": null,
   "metadata": {},
   "outputs": [],
   "source": [
    "oldke_coo = azel_model(oldke_meas, **oldke_pars)"
   ]
  },
  {
   "cell_type": "code",
   "execution_count": null,
   "metadata": {},
   "outputs": [],
   "source": [
    "# the az and el dispersions are almost twice as large here as in other pointing runs. i think the stars\n",
    "# were centered by eye visually in the K&E. the camera used for the 2021 K&E run makes a significant difference.\n",
    "f = pointing_residuals(oldke_ref, oldke_coo)"
   ]
  },
  {
   "cell_type": "code",
   "execution_count": null,
   "metadata": {},
   "outputs": [],
   "source": [
    "f = pointing_histogram(oldke_ref, oldke_coo)"
   ]
  }
 ],
 "metadata": {
  "kernelspec": {
   "display_name": "pytelpoint",
   "language": "python",
   "name": "python3"
  },
  "language_info": {
   "codemirror_mode": {
    "name": "ipython",
    "version": 3
   },
   "file_extension": ".py",
   "mimetype": "text/x-python",
   "name": "python",
   "nbconvert_exporter": "python",
   "pygments_lexer": "ipython3",
   "version": "3.13.3"
  },
  "orig_nbformat": 4
 },
 "nbformat": 4,
 "nbformat_minor": 2
}
